{
  "nbformat": 4,
  "nbformat_minor": 0,
  "metadata": {
    "colab": {
      "provenance": [],
      "authorship_tag": "ABX9TyPOv3pk82fFT5GfyZG6qVaa",
      "include_colab_link": true
    },
    "kernelspec": {
      "name": "python3",
      "display_name": "Python 3"
    },
    "language_info": {
      "name": "python"
    }
  },
  "cells": [
    {
      "cell_type": "markdown",
      "metadata": {
        "id": "view-in-github",
        "colab_type": "text"
      },
      "source": [
        "<a href=\"https://colab.research.google.com/github/softwarerockstar/google-colab/blob/main/DataScienceEcosystem.ipynb\" target=\"_parent\"><img src=\"https://colab.research.google.com/assets/colab-badge.svg\" alt=\"Open In Colab\"/></a>"
      ]
    },
    {
      "cell_type": "markdown",
      "source": [],
      "metadata": {
        "id": "7mcT6y4AaNQG"
      }
    },
    {
      "cell_type": "markdown",
      "source": [
        "# Data Science Tools and Ecosystem"
      ],
      "metadata": {
        "id": "VF8hLzCBagSv"
      }
    },
    {
      "cell_type": "code",
      "source": [],
      "metadata": {
        "id": "qWmDSx8EatVv"
      },
      "execution_count": null,
      "outputs": []
    },
    {
      "cell_type": "markdown",
      "source": [
        "In this notebook, Data Science Tools and Ecosystem are summarized."
      ],
      "metadata": {
        "id": "7lj7ert7bMP_"
      }
    },
    {
      "cell_type": "markdown",
      "source": [
        "Some of the popular languages that Data Scientists use are:\n",
        "\n",
        "- Python\n",
        "- Julia\n",
        "- R"
      ],
      "metadata": {
        "id": "aJcP89r5bnLg"
      }
    },
    {
      "cell_type": "markdown",
      "source": [
        "Some of the commonly used libraries used by Data Scientists include:\n",
        "\n",
        "1. Keras\n",
        "2. scikit-learn"
      ],
      "metadata": {
        "id": "1ixjyg_qcHXP"
      }
    },
    {
      "cell_type": "markdown",
      "source": [
        "| Data Science Tools |\n",
        "| ------------------ |\n",
        "| VS Code |\n",
        "| R Studio |\n",
        "| IBM Watson Studio |\n"
      ],
      "metadata": {
        "id": "5kHqDIi9coJI"
      }
    },
    {
      "cell_type": "markdown",
      "source": [
        "### Below are a few examples of evaluating arithmetic expressions in Python"
      ],
      "metadata": {
        "id": "79y4sFZjeBWE"
      }
    },
    {
      "cell_type": "code",
      "source": [
        "(3*4)+5\n",
        "\n",
        "# This a simple arithmetic expression to mutiply then add integers"
      ],
      "metadata": {
        "colab": {
          "base_uri": "https://localhost:8080/"
        },
        "id": "ibPKTQ8AeYmo",
        "outputId": "063aeec8-0ab5-42c7-ff7d-6ac4fcf47c2f"
      },
      "execution_count": null,
      "outputs": [
        {
          "output_type": "execute_result",
          "data": {
            "text/plain": [
              "17"
            ]
          },
          "metadata": {},
          "execution_count": 2
        }
      ]
    },
    {
      "cell_type": "code",
      "source": [
        "# This will convert 200 minutes to hours by diving by 60\n",
        "minutes = 200\n",
        "minutesPerHour = 60\n",
        "hours = minutes / minutesPerHour\n",
        "hours"
      ],
      "metadata": {
        "colab": {
          "base_uri": "https://localhost:8080/"
        },
        "id": "mr86rX6ieyLI",
        "outputId": "08e8dda7-6ef7-4f0a-8073-5e37a67f389f"
      },
      "execution_count": null,
      "outputs": [
        {
          "output_type": "execute_result",
          "data": {
            "text/plain": [
              "3.3333333333333335"
            ]
          },
          "metadata": {},
          "execution_count": 3
        }
      ]
    },
    {
      "cell_type": "markdown",
      "source": [
        "**Objectives:**\n",
        "\n",
        "- List popular data science languages\n",
        "- Evaluating artihmetic expressions\n",
        "- Convert minutes to hours"
      ],
      "metadata": {
        "id": "hB60nlVtfgfM"
      }
    },
    {
      "cell_type": "markdown",
      "source": [
        "## Author:\n",
        "Muhammad Haroon"
      ],
      "metadata": {
        "id": "i38xNyT_gN_K"
      }
    },
    {
      "cell_type": "code",
      "source": [],
      "metadata": {
        "id": "gPJzBxlRbNk3"
      },
      "execution_count": null,
      "outputs": []
    }
  ]
}